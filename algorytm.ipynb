{
 "cells": [
  {
   "cell_type": "code",
   "execution_count": null,
   "metadata": {},
   "outputs": [],
   "source": [
    "from os import listdir, path\n",
    "import re"
   ]
  },
  {
   "cell_type": "code",
   "execution_count": null,
   "metadata": {},
   "outputs": [],
   "source": [
    "BASE_DIR_PATH = path.dirname(path.abspath(\"__file__\"))  # gdyby nie działało, usuń cudzysłów\n",
    "INSTANCES_PATH = path.join(BASE_DIR_PATH, \"instances\")\n",
    "NEGATIVE_RANDOM_PATH = path.join(INSTANCES_PATH, \"negative_random\")\n",
    "NEGATIVE_REPETITIONS_PATH = path.join(INSTANCES_PATH, \"negative_repetitions\")\n",
    "POSITIVE_END_ERRORS_PATH = path.join(INSTANCES_PATH, \"positive_end_errors\")\n",
    "POSITIVE_RANDOM_PATH = path.join(INSTANCES_PATH, \"positive_random\")"
   ]
  },
  {
   "cell_type": "code",
   "execution_count": null,
   "metadata": {},
   "outputs": [],
   "source": [
    "negative_random_filenames = [path.join(NEGATIVE_RANDOM_PATH, f) for f in listdir(NEGATIVE_RANDOM_PATH) if path.isfile(path.join(NEGATIVE_RANDOM_PATH, f))]\n",
    "negative_repetitions_filenames = [path.join(NEGATIVE_REPETITIONS_PATH, f) for f in listdir(NEGATIVE_REPETITIONS_PATH) if path.isfile(path.join(NEGATIVE_REPETITIONS_PATH, f))]\n",
    "positive_end_errors_filenames = [path.join(POSITIVE_END_ERRORS_PATH, f) for f in listdir(POSITIVE_END_ERRORS_PATH) if path.isfile(path.join(POSITIVE_END_ERRORS_PATH, f))]\n",
    "positive_random_filenames = [path.join(POSITIVE_RANDOM_PATH, f) for f in listdir(POSITIVE_RANDOM_PATH) if path.isfile(path.join(POSITIVE_RANDOM_PATH, f))]"
   ]
  },
  {
   "cell_type": "code",
   "execution_count": null,
   "metadata": {},
   "outputs": [],
   "source": [
    "selected_filenames = negative_random_filenames + negative_repetitions_filenames + positive_end_errors_filenames + positive_random_filenames\n",
    "\n",
    "for filename in selected_filenames:\n",
    "    with open(filename, 'r') as file:\n",
    "        inst_name = filename[filename.rfind('/') + 1:]\n",
    "        \n",
    "        org_seq_len = re.search('(?<=\\.)[0-9]+', inst_name).group(0) \n",
    "        neg_errors_number = re.search('(?<=\\-)[0-9]+', inst_name)\n",
    "        neg_errors_number = neg_errors_number.group(0) if neg_errors_number else 0\n",
    "        pos_errors_number = re.search('(?<=\\+)[0-9]+', inst_name)\n",
    "        pos_errors_number = pos_errors_number.group(0) if pos_errors_number else 0\n",
    "        \n",
    "        print(inst_name)\n",
    "        print(org_seq_len)\n",
    "        print(neg_errors_number)\n",
    "        print(pos_errors_number)\n",
    "        print(file.read(10))"
   ]
  },
  {
   "cell_type": "code",
   "execution_count": null,
   "metadata": {},
   "outputs": [],
   "source": []
  }
 ],
 "metadata": {
  "kernelspec": {
   "display_name": "Python 3",
   "language": "python",
   "name": "python3"
  },
  "language_info": {
   "codemirror_mode": {
    "name": "ipython",
    "version": 3
   },
   "file_extension": ".py",
   "mimetype": "text/x-python",
   "name": "python",
   "nbconvert_exporter": "python",
   "pygments_lexer": "ipython3",
   "version": "3.5.2"
  }
 },
 "nbformat": 4,
 "nbformat_minor": 2
}
